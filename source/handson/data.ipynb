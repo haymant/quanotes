{
 "metadata": {
  "language_info": {
   "codemirror_mode": {
    "name": "ipython",
    "version": 3
   },
   "file_extension": ".py",
   "mimetype": "text/x-python",
   "name": "python",
   "nbconvert_exporter": "python",
   "pygments_lexer": "ipython3",
   "version": "3.8.5-final"
  },
  "orig_nbformat": 2,
  "kernelspec": {
   "name": "python3",
   "display_name": "Python 3.8.5 64-bit",
   "metadata": {
    "interpreter": {
     "hash": "d4277a90b497c6a0ebceaa92e7209a012cbf65b146e79646afa3d806795e1601"
    }
   }
  }
 },
 "nbformat": 4,
 "nbformat_minor": 2,
 "cells": [
  {
   "source": [
    "# Basic Data Manipulation"
   ],
   "cell_type": "markdown",
   "metadata": {}
  },
  {
   "source": [
    "# (Import Dependencies)\n",
    "import pandas_datareader.data as web\n",
    "import pandas as pd\n",
    "import numpy as np\n",
    "from talib import RSI, BBANDS\n",
    "import matplotlib.pyplot as plt"
   ],
   "cell_type": "code",
   "metadata": {},
   "execution_count": 1,
   "outputs": []
  },
  {
   "cell_type": "code",
   "execution_count": 2,
   "metadata": {},
   "outputs": [
    {
     "output_type": "execute_result",
     "data": {
      "text/plain": [
       "              Open      High     Low   Close      Volume  ExDividend  \\\n",
       "Date                                                                   \n",
       "2018-03-27  158.50  159.7655  156.47  157.48   3194878.0         0.0   \n",
       "2018-03-26  156.21  158.2000  156.21  158.01   3419642.0         0.0   \n",
       "2018-03-23  157.59  158.0800  154.92  154.98   3337592.0         0.0   \n",
       "2018-03-22  157.85  159.1200  156.85  157.04   3646979.0         0.0   \n",
       "2018-03-21  160.00  160.4100  158.29  158.66   3494739.0         0.0   \n",
       "2018-03-20  159.75  160.6700  159.25  159.38   3034736.0         0.0   \n",
       "2018-03-19  162.00  162.3600  158.21  159.01   4031469.0         0.0   \n",
       "2018-03-16  161.88  163.2300  161.58  162.36  13580136.0         0.0   \n",
       "2018-03-15  158.71  162.1500  158.59  161.61   5715337.0         0.0   \n",
       "\n",
       "            SplitRatio  AdjOpen   AdjHigh  AdjLow  AdjClose   AdjVolume  \n",
       "Date                                                                     \n",
       "2018-03-27         1.0   158.50  159.7655  156.47    157.48   3194878.0  \n",
       "2018-03-26         1.0   156.21  158.2000  156.21    158.01   3419642.0  \n",
       "2018-03-23         1.0   157.59  158.0800  154.92    154.98   3337592.0  \n",
       "2018-03-22         1.0   157.85  159.1200  156.85    157.04   3646979.0  \n",
       "2018-03-21         1.0   160.00  160.4100  158.29    158.66   3494739.0  \n",
       "2018-03-20         1.0   159.75  160.6700  159.25    159.38   3034736.0  \n",
       "2018-03-19         1.0   162.00  162.3600  158.21    159.01   4031469.0  \n",
       "2018-03-16         1.0   161.88  163.2300  161.58    162.36  13580136.0  \n",
       "2018-03-15         1.0   158.71  162.1500  158.59    161.61   5715337.0  "
      ],
      "text/html": "<div>\n<style scoped>\n    .dataframe tbody tr th:only-of-type {\n        vertical-align: middle;\n    }\n\n    .dataframe tbody tr th {\n        vertical-align: top;\n    }\n\n    .dataframe thead th {\n        text-align: right;\n    }\n</style>\n<table border=\"1\" class=\"dataframe\">\n  <thead>\n    <tr style=\"text-align: right;\">\n      <th></th>\n      <th>Open</th>\n      <th>High</th>\n      <th>Low</th>\n      <th>Close</th>\n      <th>Volume</th>\n      <th>ExDividend</th>\n      <th>SplitRatio</th>\n      <th>AdjOpen</th>\n      <th>AdjHigh</th>\n      <th>AdjLow</th>\n      <th>AdjClose</th>\n      <th>AdjVolume</th>\n    </tr>\n    <tr>\n      <th>Date</th>\n      <th></th>\n      <th></th>\n      <th></th>\n      <th></th>\n      <th></th>\n      <th></th>\n      <th></th>\n      <th></th>\n      <th></th>\n      <th></th>\n      <th></th>\n      <th></th>\n    </tr>\n  </thead>\n  <tbody>\n    <tr>\n      <th>2018-03-27</th>\n      <td>158.50</td>\n      <td>159.7655</td>\n      <td>156.47</td>\n      <td>157.48</td>\n      <td>3194878.0</td>\n      <td>0.0</td>\n      <td>1.0</td>\n      <td>158.50</td>\n      <td>159.7655</td>\n      <td>156.47</td>\n      <td>157.48</td>\n      <td>3194878.0</td>\n    </tr>\n    <tr>\n      <th>2018-03-26</th>\n      <td>156.21</td>\n      <td>158.2000</td>\n      <td>156.21</td>\n      <td>158.01</td>\n      <td>3419642.0</td>\n      <td>0.0</td>\n      <td>1.0</td>\n      <td>156.21</td>\n      <td>158.2000</td>\n      <td>156.21</td>\n      <td>158.01</td>\n      <td>3419642.0</td>\n    </tr>\n    <tr>\n      <th>2018-03-23</th>\n      <td>157.59</td>\n      <td>158.0800</td>\n      <td>154.92</td>\n      <td>154.98</td>\n      <td>3337592.0</td>\n      <td>0.0</td>\n      <td>1.0</td>\n      <td>157.59</td>\n      <td>158.0800</td>\n      <td>154.92</td>\n      <td>154.98</td>\n      <td>3337592.0</td>\n    </tr>\n    <tr>\n      <th>2018-03-22</th>\n      <td>157.85</td>\n      <td>159.1200</td>\n      <td>156.85</td>\n      <td>157.04</td>\n      <td>3646979.0</td>\n      <td>0.0</td>\n      <td>1.0</td>\n      <td>157.85</td>\n      <td>159.1200</td>\n      <td>156.85</td>\n      <td>157.04</td>\n      <td>3646979.0</td>\n    </tr>\n    <tr>\n      <th>2018-03-21</th>\n      <td>160.00</td>\n      <td>160.4100</td>\n      <td>158.29</td>\n      <td>158.66</td>\n      <td>3494739.0</td>\n      <td>0.0</td>\n      <td>1.0</td>\n      <td>160.00</td>\n      <td>160.4100</td>\n      <td>158.29</td>\n      <td>158.66</td>\n      <td>3494739.0</td>\n    </tr>\n    <tr>\n      <th>2018-03-20</th>\n      <td>159.75</td>\n      <td>160.6700</td>\n      <td>159.25</td>\n      <td>159.38</td>\n      <td>3034736.0</td>\n      <td>0.0</td>\n      <td>1.0</td>\n      <td>159.75</td>\n      <td>160.6700</td>\n      <td>159.25</td>\n      <td>159.38</td>\n      <td>3034736.0</td>\n    </tr>\n    <tr>\n      <th>2018-03-19</th>\n      <td>162.00</td>\n      <td>162.3600</td>\n      <td>158.21</td>\n      <td>159.01</td>\n      <td>4031469.0</td>\n      <td>0.0</td>\n      <td>1.0</td>\n      <td>162.00</td>\n      <td>162.3600</td>\n      <td>158.21</td>\n      <td>159.01</td>\n      <td>4031469.0</td>\n    </tr>\n    <tr>\n      <th>2018-03-16</th>\n      <td>161.88</td>\n      <td>163.2300</td>\n      <td>161.58</td>\n      <td>162.36</td>\n      <td>13580136.0</td>\n      <td>0.0</td>\n      <td>1.0</td>\n      <td>161.88</td>\n      <td>163.2300</td>\n      <td>161.58</td>\n      <td>162.36</td>\n      <td>13580136.0</td>\n    </tr>\n    <tr>\n      <th>2018-03-15</th>\n      <td>158.71</td>\n      <td>162.1500</td>\n      <td>158.59</td>\n      <td>161.61</td>\n      <td>5715337.0</td>\n      <td>0.0</td>\n      <td>1.0</td>\n      <td>158.71</td>\n      <td>162.1500</td>\n      <td>158.59</td>\n      <td>161.61</td>\n      <td>5715337.0</td>\n    </tr>\n  </tbody>\n</table>\n</div>"
     },
     "metadata": {},
     "execution_count": 2
    }
   ],
   "source": [
    "# Download Data\n",
    "start = '2015-04-22'\n",
    "end = '2021-02-19'\n",
    "\n",
    "symbol = 'MCD'\n",
    "max_holding = 100\n",
    "price = web.DataReader(name=symbol, data_source='quandl', start=start, end=end)\n",
    "price.head(9)"
   ]
  },
  {
   "cell_type": "code",
   "execution_count": null,
   "metadata": {},
   "outputs": [],
   "source": []
  }
 ]
}